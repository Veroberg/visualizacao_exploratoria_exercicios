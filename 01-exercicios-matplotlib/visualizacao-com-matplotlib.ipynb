{
  "nbformat": 4,
  "nbformat_minor": 0,
  "metadata": {
    "kernelspec": {
      "display_name": "Python 3",
      "language": "python",
      "name": "python3"
    },
    "language_info": {
      "codemirror_mode": {
        "name": "ipython",
        "version": 3
      },
      "file_extension": ".py",
      "mimetype": "text/x-python",
      "name": "python",
      "nbconvert_exporter": "python",
      "pygments_lexer": "ipython3",
      "version": "3.7.6"
    },
    "colab": {
      "name": "visualizacao-com-matplotlib.ipynb",
      "provenance": [],
      "collapsed_sections": []
    }
  },
  "cells": [
    {
      "cell_type": "markdown",
      "metadata": {
        "id": "RzfiN0Y8Y_1I"
      },
      "source": [
        "<img src=\"https://i.imgur.com/YX6UATs.png\"  width=\"160\">"
      ]
    },
    {
      "cell_type": "markdown",
      "metadata": {
        "id": "IsbDjKiKY_1X"
      },
      "source": [
        "# Projeto - Visualização com Matplotlib\n",
        "\n",
        "## Considerações iniciais\n",
        "\n",
        "O objetivo deste notebook é fazer com que o leitor assimile os recursos de uma das bibliotecas mais importantes do Python: o Matplotlib. Para isso, exemplos e conceitos desta biblioteca serão apresentados ao longo da jornada. Concomitantemente, serão solicitadas algumas tarefas práticas ao leitor.\n",
        "\n",
        "### Por que o Matplotlib?\n",
        "Apesar do Python possuir um ecossitema de feramentas de visualização muito rico para o cientista de dados, o Matplotlib, sem dúvidas, também detém seu lugar de destaque.\n",
        "\n",
        "> \"Matplolib tenta facilitar as coisas fáceis e tornar as coisas difíceis possíveis.\"\n",
        ">\n",
        "> [Site do Matplotlib](https://matplotlib.org/)\n",
        "\n",
        "Além do Matplotlib, utilizaremos, também, um conjunto de dados e outras bibliotecas de apoio, como o [Pandas](https://pandas.pydata.org/), por exemplo. Afinal, o Matplotlib é ótimo, mas não brilha sozinho.\n",
        "\n",
        "### Prepare seu ambiente\n",
        "\n",
        "Se necessário, faça a instalação da biblioteca no seu sistema usando o gerenciador de pacotes da linguagem, no prompt/terminal/cmd digite:\n",
        "```\n",
        "$ pip install matplotlib\n",
        "```\n",
        "\n",
        "Ou caso esteja usando o Anaconda:\n",
        "```\n",
        "$ conda install matplotlib\n",
        "```\n",
        "\n",
        "### Conjunto de dados\n",
        "O conjunto de dados utilizado são os registros de milhares de lutas no Ultimate Fight Championship (UFC). O arquivo [ufc.csv](ufc.csv) possui mais de 145 colunas, o que é demasiadamente grande para as nossas intenções. Deste modo, iremos focar apenas uma parte dos dados.\n",
        "\n",
        "#### Descrição do dados\n",
        "\n",
        "De todas as colunas do arquivo [ufc.csv](ufc.csv), iremos praticar com:\n",
        "- R_fighter: Nome do lutador do canto vermelho.\n",
        "- B_fighter: Nome do lutador do canto azul.\n",
        "- Referee: Nome do árbitro da luta.\n",
        "- date: Data do evento\n",
        "- location: Local do evento.\n",
        "- Winner: Cor do vencedor - Red ou Blue.\n",
        "- title_bout: Se é uma disputa pelo título.\n",
        "- weight_class: Classe de peso da luta."
      ]
    },
    {
      "cell_type": "markdown",
      "metadata": {
        "id": "9fWFPz8NY_1Z"
      },
      "source": [
        "## Procedimentos\n",
        "\n",
        "Vamos abordar alguns padrões básicos de uso e práticas recomendadas para ajudar você a utilizar o Matplotlib. Por ter um código bastante extenso, o Matplotlib pode ser um desafio ultrajante (e é) para os iniciantes, mas não se intimide. A intenção deste guia é, justamente, focar no essencial para plotagem dos primeiros gráficos sem necessitar de muita informação.\n",
        "\n",
        "### Importando as bibliotecas\n",
        "- **%matplotlib inline**: é uma *Magic Word* do Jupyter Notebook que informa à plataforma que informa ao Jupyter para que os gráficos sejam plotados diratemente no notebook.\n",
        "- **numpy**: Uma biblioteca de apoio para gerar alguns dados para plotagem.\n",
        "- **pandas**: A biblioteca pandas fornece estruturas e ferramentas de análise de dados. Iremos utilizá-la para carregar e manipular o conjunto de dados em uma estrutura chamada *dataframe*. Por convenção, recomenda-se o pandas seja utilizado com o nome *pd*.\n",
        "- **matplotlib.pyplot**: A estrela de hoje. Por convenção, recomenda-se que matplotlib.pyplot seja acessado via pelo nome *plt*."
      ]
    },
    {
      "cell_type": "code",
      "metadata": {
        "id": "YQg6Eu4cY_1a"
      },
      "source": [
        "%matplotlib inline\n",
        "import numpy as np\n",
        "import pandas as pd\n",
        "import matplotlib.pyplot as plt"
      ],
      "execution_count": 632,
      "outputs": []
    },
    {
      "cell_type": "markdown",
      "metadata": {
        "id": "mVZiyYJIY_1b"
      },
      "source": [
        "### TAREFA 01\n",
        "1. Importe o arquivo [ufc.csv](ufc.csv) em um dataframe.\n",
        "2. Visualize as primeiras 5 linhas do dataframe"
      ]
    },
    {
      "cell_type": "code",
      "metadata": {
        "id": "J4swv81-Y_1b"
      },
      "source": [
        "ufc = pd.read_csv(\"/content/ufc.csv\")"
      ],
      "execution_count": 633,
      "outputs": []
    },
    {
      "cell_type": "code",
      "metadata": {
        "id": "e3HwaOZ7Y_1c",
        "outputId": "6b238ef5-e121-4467-df9d-86dedc6a612d",
        "colab": {
          "base_uri": "https://localhost:8080/",
          "height": 420
        }
      },
      "source": [
        "# Resultado esperado (não modifique esta célula)\n",
        "ufc.head()"
      ],
      "execution_count": 634,
      "outputs": [
        {
          "output_type": "execute_result",
          "data": {
            "text/html": [
              "<div>\n",
              "<style scoped>\n",
              "    .dataframe tbody tr th:only-of-type {\n",
              "        vertical-align: middle;\n",
              "    }\n",
              "\n",
              "    .dataframe tbody tr th {\n",
              "        vertical-align: top;\n",
              "    }\n",
              "\n",
              "    .dataframe thead th {\n",
              "        text-align: right;\n",
              "    }\n",
              "</style>\n",
              "<table border=\"1\" class=\"dataframe\">\n",
              "  <thead>\n",
              "    <tr style=\"text-align: right;\">\n",
              "      <th></th>\n",
              "      <th>R_fighter</th>\n",
              "      <th>B_fighter</th>\n",
              "      <th>Referee</th>\n",
              "      <th>date</th>\n",
              "      <th>location</th>\n",
              "      <th>Winner</th>\n",
              "      <th>title_bout</th>\n",
              "      <th>weight_class</th>\n",
              "      <th>no_of_rounds</th>\n",
              "      <th>B_current_lose_streak</th>\n",
              "      <th>B_current_win_streak</th>\n",
              "      <th>B_draw</th>\n",
              "      <th>B_avg_BODY_att</th>\n",
              "      <th>B_avg_BODY_landed</th>\n",
              "      <th>B_avg_CLINCH_att</th>\n",
              "      <th>B_avg_CLINCH_landed</th>\n",
              "      <th>B_avg_DISTANCE_att</th>\n",
              "      <th>B_avg_DISTANCE_landed</th>\n",
              "      <th>B_avg_GROUND_att</th>\n",
              "      <th>B_avg_GROUND_landed</th>\n",
              "      <th>B_avg_HEAD_att</th>\n",
              "      <th>B_avg_HEAD_landed</th>\n",
              "      <th>B_avg_KD</th>\n",
              "      <th>B_avg_LEG_att</th>\n",
              "      <th>B_avg_LEG_landed</th>\n",
              "      <th>B_avg_PASS</th>\n",
              "      <th>B_avg_REV</th>\n",
              "      <th>B_avg_SIG_STR_att</th>\n",
              "      <th>B_avg_SIG_STR_landed</th>\n",
              "      <th>B_avg_SIG_STR_pct</th>\n",
              "      <th>B_avg_SUB_ATT</th>\n",
              "      <th>B_avg_TD_att</th>\n",
              "      <th>B_avg_TD_landed</th>\n",
              "      <th>B_avg_TD_pct</th>\n",
              "      <th>B_avg_TOTAL_STR_att</th>\n",
              "      <th>B_avg_TOTAL_STR_landed</th>\n",
              "      <th>B_longest_win_streak</th>\n",
              "      <th>B_losses</th>\n",
              "      <th>B_avg_opp_BODY_att</th>\n",
              "      <th>B_avg_opp_BODY_landed</th>\n",
              "      <th>...</th>\n",
              "      <th>R_avg_opp_BODY_att</th>\n",
              "      <th>R_avg_opp_BODY_landed</th>\n",
              "      <th>R_avg_opp_CLINCH_att</th>\n",
              "      <th>R_avg_opp_CLINCH_landed</th>\n",
              "      <th>R_avg_opp_DISTANCE_att</th>\n",
              "      <th>R_avg_opp_DISTANCE_landed</th>\n",
              "      <th>R_avg_opp_GROUND_att</th>\n",
              "      <th>R_avg_opp_GROUND_landed</th>\n",
              "      <th>R_avg_opp_HEAD_att</th>\n",
              "      <th>R_avg_opp_HEAD_landed</th>\n",
              "      <th>R_avg_opp_KD</th>\n",
              "      <th>R_avg_opp_LEG_att</th>\n",
              "      <th>R_avg_opp_LEG_landed</th>\n",
              "      <th>R_avg_opp_PASS</th>\n",
              "      <th>R_avg_opp_REV</th>\n",
              "      <th>R_avg_opp_SIG_STR_att</th>\n",
              "      <th>R_avg_opp_SIG_STR_landed</th>\n",
              "      <th>R_avg_opp_SIG_STR_pct</th>\n",
              "      <th>R_avg_opp_SUB_ATT</th>\n",
              "      <th>R_avg_opp_TD_att</th>\n",
              "      <th>R_avg_opp_TD_landed</th>\n",
              "      <th>R_avg_opp_TD_pct</th>\n",
              "      <th>R_avg_opp_TOTAL_STR_att</th>\n",
              "      <th>R_avg_opp_TOTAL_STR_landed</th>\n",
              "      <th>R_total_rounds_fought</th>\n",
              "      <th>R_total_time_fought(seconds)</th>\n",
              "      <th>R_total_title_bouts</th>\n",
              "      <th>R_win_by_Decision_Majority</th>\n",
              "      <th>R_win_by_Decision_Split</th>\n",
              "      <th>R_win_by_Decision_Unanimous</th>\n",
              "      <th>R_win_by_KO/TKO</th>\n",
              "      <th>R_win_by_Submission</th>\n",
              "      <th>R_win_by_TKO_Doctor_Stoppage</th>\n",
              "      <th>R_wins</th>\n",
              "      <th>R_Stance</th>\n",
              "      <th>R_Height_cms</th>\n",
              "      <th>R_Reach_cms</th>\n",
              "      <th>R_Weight_lbs</th>\n",
              "      <th>B_age</th>\n",
              "      <th>R_age</th>\n",
              "    </tr>\n",
              "  </thead>\n",
              "  <tbody>\n",
              "    <tr>\n",
              "      <th>0</th>\n",
              "      <td>Henry Cejudo</td>\n",
              "      <td>Marlon Moraes</td>\n",
              "      <td>Marc Goddard</td>\n",
              "      <td>2019-06-08</td>\n",
              "      <td>Chicago, Illinois, USA</td>\n",
              "      <td>Red</td>\n",
              "      <td>True</td>\n",
              "      <td>Bantamweight</td>\n",
              "      <td>5</td>\n",
              "      <td>0.0</td>\n",
              "      <td>4.0</td>\n",
              "      <td>0.0</td>\n",
              "      <td>9.200000</td>\n",
              "      <td>6.000000</td>\n",
              "      <td>0.200000</td>\n",
              "      <td>0.000000</td>\n",
              "      <td>62.600000</td>\n",
              "      <td>20.600000</td>\n",
              "      <td>2.600000</td>\n",
              "      <td>2.000000</td>\n",
              "      <td>48.600000</td>\n",
              "      <td>11.200000</td>\n",
              "      <td>0.800000</td>\n",
              "      <td>7.6</td>\n",
              "      <td>5.400000</td>\n",
              "      <td>0.400000</td>\n",
              "      <td>0.000000</td>\n",
              "      <td>65.40</td>\n",
              "      <td>22.600000</td>\n",
              "      <td>0.466000</td>\n",
              "      <td>0.400000</td>\n",
              "      <td>0.80000</td>\n",
              "      <td>0.200000</td>\n",
              "      <td>0.100000</td>\n",
              "      <td>66.400000</td>\n",
              "      <td>23.600000</td>\n",
              "      <td>4.0</td>\n",
              "      <td>1.0</td>\n",
              "      <td>6.400000</td>\n",
              "      <td>4.000000</td>\n",
              "      <td>...</td>\n",
              "      <td>13.300000</td>\n",
              "      <td>8.800000</td>\n",
              "      <td>7.500000</td>\n",
              "      <td>5.100000</td>\n",
              "      <td>90.500000</td>\n",
              "      <td>26.800000</td>\n",
              "      <td>0.800000</td>\n",
              "      <td>0.300000</td>\n",
              "      <td>76.100000</td>\n",
              "      <td>17.300000</td>\n",
              "      <td>0.100000</td>\n",
              "      <td>9.400000</td>\n",
              "      <td>6.100000</td>\n",
              "      <td>0.000000</td>\n",
              "      <td>0.000000</td>\n",
              "      <td>98.800000</td>\n",
              "      <td>32.200000</td>\n",
              "      <td>0.336000</td>\n",
              "      <td>0.000000</td>\n",
              "      <td>0.900000</td>\n",
              "      <td>0.100000</td>\n",
              "      <td>0.050000</td>\n",
              "      <td>110.500000</td>\n",
              "      <td>43.300000</td>\n",
              "      <td>27.0</td>\n",
              "      <td>742.60</td>\n",
              "      <td>3.0</td>\n",
              "      <td>0.0</td>\n",
              "      <td>2.0</td>\n",
              "      <td>4.0</td>\n",
              "      <td>2.0</td>\n",
              "      <td>0.0</td>\n",
              "      <td>0.0</td>\n",
              "      <td>8.0</td>\n",
              "      <td>Orthodox</td>\n",
              "      <td>162.56</td>\n",
              "      <td>162.56</td>\n",
              "      <td>135.0</td>\n",
              "      <td>31.0</td>\n",
              "      <td>32.0</td>\n",
              "    </tr>\n",
              "    <tr>\n",
              "      <th>1</th>\n",
              "      <td>Valentina Shevchenko</td>\n",
              "      <td>Jessica Eye</td>\n",
              "      <td>Robert Madrigal</td>\n",
              "      <td>2019-06-08</td>\n",
              "      <td>Chicago, Illinois, USA</td>\n",
              "      <td>Red</td>\n",
              "      <td>True</td>\n",
              "      <td>Women's Flyweight</td>\n",
              "      <td>5</td>\n",
              "      <td>0.0</td>\n",
              "      <td>3.0</td>\n",
              "      <td>0.0</td>\n",
              "      <td>14.600000</td>\n",
              "      <td>9.100000</td>\n",
              "      <td>11.800000</td>\n",
              "      <td>7.300000</td>\n",
              "      <td>124.700000</td>\n",
              "      <td>42.100000</td>\n",
              "      <td>2.400000</td>\n",
              "      <td>1.900000</td>\n",
              "      <td>112.000000</td>\n",
              "      <td>32.000000</td>\n",
              "      <td>0.000000</td>\n",
              "      <td>12.3</td>\n",
              "      <td>10.200000</td>\n",
              "      <td>0.800000</td>\n",
              "      <td>0.000000</td>\n",
              "      <td>138.90</td>\n",
              "      <td>51.300000</td>\n",
              "      <td>0.399000</td>\n",
              "      <td>0.700000</td>\n",
              "      <td>1.00000</td>\n",
              "      <td>0.500000</td>\n",
              "      <td>0.225000</td>\n",
              "      <td>158.700000</td>\n",
              "      <td>69.600000</td>\n",
              "      <td>3.0</td>\n",
              "      <td>6.0</td>\n",
              "      <td>13.000000</td>\n",
              "      <td>9.300000</td>\n",
              "      <td>...</td>\n",
              "      <td>24.571429</td>\n",
              "      <td>14.142857</td>\n",
              "      <td>10.571429</td>\n",
              "      <td>7.857143</td>\n",
              "      <td>98.571429</td>\n",
              "      <td>32.571429</td>\n",
              "      <td>6.428571</td>\n",
              "      <td>4.285714</td>\n",
              "      <td>61.857143</td>\n",
              "      <td>12.428571</td>\n",
              "      <td>0.000000</td>\n",
              "      <td>29.142857</td>\n",
              "      <td>18.142857</td>\n",
              "      <td>1.142857</td>\n",
              "      <td>0.000000</td>\n",
              "      <td>115.571429</td>\n",
              "      <td>44.714286</td>\n",
              "      <td>0.437143</td>\n",
              "      <td>0.285714</td>\n",
              "      <td>3.285714</td>\n",
              "      <td>0.857143</td>\n",
              "      <td>0.147143</td>\n",
              "      <td>158.142857</td>\n",
              "      <td>82.285714</td>\n",
              "      <td>25.0</td>\n",
              "      <td>1062.00</td>\n",
              "      <td>2.0</td>\n",
              "      <td>0.0</td>\n",
              "      <td>1.0</td>\n",
              "      <td>2.0</td>\n",
              "      <td>0.0</td>\n",
              "      <td>2.0</td>\n",
              "      <td>0.0</td>\n",
              "      <td>5.0</td>\n",
              "      <td>Southpaw</td>\n",
              "      <td>165.10</td>\n",
              "      <td>167.64</td>\n",
              "      <td>125.0</td>\n",
              "      <td>32.0</td>\n",
              "      <td>31.0</td>\n",
              "    </tr>\n",
              "    <tr>\n",
              "      <th>2</th>\n",
              "      <td>Tony Ferguson</td>\n",
              "      <td>Donald Cerrone</td>\n",
              "      <td>Dan Miragliotta</td>\n",
              "      <td>2019-06-08</td>\n",
              "      <td>Chicago, Illinois, USA</td>\n",
              "      <td>Red</td>\n",
              "      <td>False</td>\n",
              "      <td>Lightweight</td>\n",
              "      <td>3</td>\n",
              "      <td>0.0</td>\n",
              "      <td>3.0</td>\n",
              "      <td>0.0</td>\n",
              "      <td>15.354839</td>\n",
              "      <td>11.322581</td>\n",
              "      <td>6.741935</td>\n",
              "      <td>4.387097</td>\n",
              "      <td>84.741935</td>\n",
              "      <td>38.580645</td>\n",
              "      <td>5.516129</td>\n",
              "      <td>3.806452</td>\n",
              "      <td>67.645161</td>\n",
              "      <td>23.258065</td>\n",
              "      <td>0.645161</td>\n",
              "      <td>14.0</td>\n",
              "      <td>12.193548</td>\n",
              "      <td>0.935484</td>\n",
              "      <td>0.096774</td>\n",
              "      <td>97.00</td>\n",
              "      <td>46.774194</td>\n",
              "      <td>0.496129</td>\n",
              "      <td>0.354839</td>\n",
              "      <td>2.16129</td>\n",
              "      <td>0.677419</td>\n",
              "      <td>0.295484</td>\n",
              "      <td>103.709677</td>\n",
              "      <td>52.548387</td>\n",
              "      <td>8.0</td>\n",
              "      <td>8.0</td>\n",
              "      <td>17.903226</td>\n",
              "      <td>11.870968</td>\n",
              "      <td>...</td>\n",
              "      <td>14.466667</td>\n",
              "      <td>8.133333</td>\n",
              "      <td>2.800000</td>\n",
              "      <td>0.733333</td>\n",
              "      <td>91.066667</td>\n",
              "      <td>32.200000</td>\n",
              "      <td>4.866667</td>\n",
              "      <td>2.800000</td>\n",
              "      <td>78.266667</td>\n",
              "      <td>23.200000</td>\n",
              "      <td>0.266667</td>\n",
              "      <td>6.000000</td>\n",
              "      <td>4.400000</td>\n",
              "      <td>0.333333</td>\n",
              "      <td>0.133333</td>\n",
              "      <td>98.733333</td>\n",
              "      <td>35.733333</td>\n",
              "      <td>0.340000</td>\n",
              "      <td>0.066667</td>\n",
              "      <td>2.866667</td>\n",
              "      <td>0.666667</td>\n",
              "      <td>0.131333</td>\n",
              "      <td>102.133333</td>\n",
              "      <td>38.600000</td>\n",
              "      <td>33.0</td>\n",
              "      <td>604.40</td>\n",
              "      <td>2.0</td>\n",
              "      <td>0.0</td>\n",
              "      <td>1.0</td>\n",
              "      <td>3.0</td>\n",
              "      <td>3.0</td>\n",
              "      <td>6.0</td>\n",
              "      <td>1.0</td>\n",
              "      <td>14.0</td>\n",
              "      <td>Orthodox</td>\n",
              "      <td>180.34</td>\n",
              "      <td>193.04</td>\n",
              "      <td>155.0</td>\n",
              "      <td>36.0</td>\n",
              "      <td>35.0</td>\n",
              "    </tr>\n",
              "    <tr>\n",
              "      <th>3</th>\n",
              "      <td>Jimmie Rivera</td>\n",
              "      <td>Petr Yan</td>\n",
              "      <td>Kevin MacDonald</td>\n",
              "      <td>2019-06-08</td>\n",
              "      <td>Chicago, Illinois, USA</td>\n",
              "      <td>Blue</td>\n",
              "      <td>False</td>\n",
              "      <td>Bantamweight</td>\n",
              "      <td>3</td>\n",
              "      <td>0.0</td>\n",
              "      <td>4.0</td>\n",
              "      <td>0.0</td>\n",
              "      <td>17.000000</td>\n",
              "      <td>14.000000</td>\n",
              "      <td>13.750000</td>\n",
              "      <td>11.000000</td>\n",
              "      <td>109.500000</td>\n",
              "      <td>48.750000</td>\n",
              "      <td>13.000000</td>\n",
              "      <td>10.500000</td>\n",
              "      <td>116.250000</td>\n",
              "      <td>53.750000</td>\n",
              "      <td>0.500000</td>\n",
              "      <td>3.0</td>\n",
              "      <td>2.500000</td>\n",
              "      <td>0.500000</td>\n",
              "      <td>0.250000</td>\n",
              "      <td>136.25</td>\n",
              "      <td>70.250000</td>\n",
              "      <td>0.550000</td>\n",
              "      <td>0.250000</td>\n",
              "      <td>2.50000</td>\n",
              "      <td>1.250000</td>\n",
              "      <td>0.287500</td>\n",
              "      <td>154.750000</td>\n",
              "      <td>86.750000</td>\n",
              "      <td>4.0</td>\n",
              "      <td>0.0</td>\n",
              "      <td>12.250000</td>\n",
              "      <td>6.000000</td>\n",
              "      <td>...</td>\n",
              "      <td>20.250000</td>\n",
              "      <td>13.375000</td>\n",
              "      <td>6.875000</td>\n",
              "      <td>5.625000</td>\n",
              "      <td>103.125000</td>\n",
              "      <td>38.500000</td>\n",
              "      <td>0.875000</td>\n",
              "      <td>0.750000</td>\n",
              "      <td>77.375000</td>\n",
              "      <td>20.375000</td>\n",
              "      <td>0.125000</td>\n",
              "      <td>13.250000</td>\n",
              "      <td>11.125000</td>\n",
              "      <td>0.000000</td>\n",
              "      <td>0.000000</td>\n",
              "      <td>110.875000</td>\n",
              "      <td>44.875000</td>\n",
              "      <td>0.446250</td>\n",
              "      <td>0.000000</td>\n",
              "      <td>2.375000</td>\n",
              "      <td>0.000000</td>\n",
              "      <td>0.000000</td>\n",
              "      <td>115.125000</td>\n",
              "      <td>48.875000</td>\n",
              "      <td>20.0</td>\n",
              "      <td>690.25</td>\n",
              "      <td>0.0</td>\n",
              "      <td>0.0</td>\n",
              "      <td>1.0</td>\n",
              "      <td>4.0</td>\n",
              "      <td>1.0</td>\n",
              "      <td>0.0</td>\n",
              "      <td>0.0</td>\n",
              "      <td>6.0</td>\n",
              "      <td>Orthodox</td>\n",
              "      <td>162.56</td>\n",
              "      <td>172.72</td>\n",
              "      <td>135.0</td>\n",
              "      <td>26.0</td>\n",
              "      <td>29.0</td>\n",
              "    </tr>\n",
              "    <tr>\n",
              "      <th>4</th>\n",
              "      <td>Tai Tuivasa</td>\n",
              "      <td>Blagoy Ivanov</td>\n",
              "      <td>Dan Miragliotta</td>\n",
              "      <td>2019-06-08</td>\n",
              "      <td>Chicago, Illinois, USA</td>\n",
              "      <td>Blue</td>\n",
              "      <td>False</td>\n",
              "      <td>Heavyweight</td>\n",
              "      <td>3</td>\n",
              "      <td>0.0</td>\n",
              "      <td>1.0</td>\n",
              "      <td>0.0</td>\n",
              "      <td>17.000000</td>\n",
              "      <td>14.500000</td>\n",
              "      <td>2.500000</td>\n",
              "      <td>2.000000</td>\n",
              "      <td>201.000000</td>\n",
              "      <td>59.500000</td>\n",
              "      <td>0.000000</td>\n",
              "      <td>0.000000</td>\n",
              "      <td>184.500000</td>\n",
              "      <td>45.000000</td>\n",
              "      <td>0.000000</td>\n",
              "      <td>2.0</td>\n",
              "      <td>2.000000</td>\n",
              "      <td>0.000000</td>\n",
              "      <td>0.000000</td>\n",
              "      <td>203.50</td>\n",
              "      <td>61.500000</td>\n",
              "      <td>0.310000</td>\n",
              "      <td>0.000000</td>\n",
              "      <td>0.00000</td>\n",
              "      <td>0.000000</td>\n",
              "      <td>0.000000</td>\n",
              "      <td>204.000000</td>\n",
              "      <td>62.000000</td>\n",
              "      <td>1.0</td>\n",
              "      <td>1.0</td>\n",
              "      <td>42.500000</td>\n",
              "      <td>23.500000</td>\n",
              "      <td>...</td>\n",
              "      <td>6.250000</td>\n",
              "      <td>4.750000</td>\n",
              "      <td>4.500000</td>\n",
              "      <td>3.500000</td>\n",
              "      <td>42.750000</td>\n",
              "      <td>16.250000</td>\n",
              "      <td>7.750000</td>\n",
              "      <td>2.750000</td>\n",
              "      <td>43.250000</td>\n",
              "      <td>14.000000</td>\n",
              "      <td>0.250000</td>\n",
              "      <td>5.500000</td>\n",
              "      <td>3.750000</td>\n",
              "      <td>0.750000</td>\n",
              "      <td>0.000000</td>\n",
              "      <td>55.000000</td>\n",
              "      <td>22.500000</td>\n",
              "      <td>0.397500</td>\n",
              "      <td>0.000000</td>\n",
              "      <td>1.000000</td>\n",
              "      <td>0.000000</td>\n",
              "      <td>0.000000</td>\n",
              "      <td>60.500000</td>\n",
              "      <td>27.750000</td>\n",
              "      <td>7.0</td>\n",
              "      <td>440.75</td>\n",
              "      <td>0.0</td>\n",
              "      <td>0.0</td>\n",
              "      <td>0.0</td>\n",
              "      <td>1.0</td>\n",
              "      <td>2.0</td>\n",
              "      <td>0.0</td>\n",
              "      <td>0.0</td>\n",
              "      <td>3.0</td>\n",
              "      <td>Southpaw</td>\n",
              "      <td>187.96</td>\n",
              "      <td>190.50</td>\n",
              "      <td>264.0</td>\n",
              "      <td>32.0</td>\n",
              "      <td>26.0</td>\n",
              "    </tr>\n",
              "  </tbody>\n",
              "</table>\n",
              "<p>5 rows × 145 columns</p>\n",
              "</div>"
            ],
            "text/plain": [
              "              R_fighter       B_fighter  ... B_age R_age\n",
              "0          Henry Cejudo   Marlon Moraes  ...  31.0  32.0\n",
              "1  Valentina Shevchenko     Jessica Eye  ...  32.0  31.0\n",
              "2         Tony Ferguson  Donald Cerrone  ...  36.0  35.0\n",
              "3         Jimmie Rivera        Petr Yan  ...  26.0  29.0\n",
              "4           Tai Tuivasa   Blagoy Ivanov  ...  32.0  26.0\n",
              "\n",
              "[5 rows x 145 columns]"
            ]
          },
          "metadata": {
            "tags": []
          },
          "execution_count": 634
        }
      ]
    },
    {
      "cell_type": "markdown",
      "metadata": {
        "id": "8GVo9Pe6Y_1e"
      },
      "source": [
        "### Diferenças entre os métodos plt.show() e plt.plot()\n",
        "Caso você esteja executando matplotlib a partir do script Python, use o *plt.show()* em qualquer plotagem. Porém, no nosso caso, rodando a partir do notebook, nosso trabalho poderá ser realizado apenas com *plt.plot()*. Não se esqueça que para isso, ativamos a opção de apresentar os gráficos diretamente no notebook através do comando *%matplotlib inline*."
      ]
    },
    {
      "cell_type": "markdown",
      "metadata": {
        "id": "gGM1GgvkY_1e"
      },
      "source": [
        "### A anatomia de um gráfico\n",
        "\n",
        "O Matplotlib é baseado no conceito de que todos os elementos que constituem um gráfico estão organizados dentro de uma hierarquia. No topo desta hirarquia está o ambiente do Matplotlib, fornecido pelo módulo que importamos anteriormente - __matplotlib.pyplot__. A partir dele, o usuário acessa funções que adicionam elementos nos gráficos (linhas, imagens, legendas, etc).\n",
        "\n",
        "Descendo na hirarquia, o usuário poderá utilizar objetos que possuem funcionalidades. Por exemplo, uma figura é criada a partir de um objeto *Figure* ou um subgráfico em um gráfico é manipulado por um objeto *Axe*. Aliás, no fim das contas, para deixar o código mais \"acessível\", o usuário acaba sempre trabalhando com os objetos do Matplotlib.\n",
        "\n",
        "Para esclarecer um pouco mais, observe a imagem abaixo. Nela, estão contidas os elementos que compoem um gráfico:\n",
        "<center>\n",
        "<img src='https://matplotlib.org/_images/anatomy.png' alt='Anatomia de um gráfico' width='600' height='600'/>\n",
        "</center>\n",
        "\n",
        "Não se preocupe em entender cada um dos elementos, o importante é ter a noção de que estes elementos possuem uma hierarquia na organização e que você deve obedecê-la durante a montagem de gráficos mais complexos.\n",
        "\n",
        "#### Figure\n",
        "O *Figure* é o elemento de mais alto nível do gráfico. Uma figura pode ter vários eixos (*Axes*), mas um eixo pode pertencer a somente uma figura. Além disso, o objeto *Figure* aceita parâmetros que formatam nosso gráfico.\n",
        "\n",
        "### TAREFA 02\n",
        "1. Instancie uma figura.\n",
        "2. Use o *plt.plot()* para visualizar no notebook.\n",
        "\n",
        "- **DICA**: O objeto *figure* está dentro do matplotlib.pyplot.\n",
        "- **DICA**: Caso você não tenha usado o comando *%matplotlib inline*, a figura não aparecerá."
      ]
    },
    {
      "cell_type": "code",
      "metadata": {
        "id": "4P5Djk_HY_1f"
      },
      "source": [
        "%matplotlib inline"
      ],
      "execution_count": 635,
      "outputs": []
    },
    {
      "cell_type": "code",
      "metadata": {
        "id": "6PRvD2QPZYQz",
        "outputId": "16241273-1480-4677-8158-f9e7fcf310ee",
        "colab": {
          "base_uri": "https://localhost:8080/",
          "height": 50
        }
      },
      "source": [
        "plt.figure('ufc')"
      ],
      "execution_count": 636,
      "outputs": [
        {
          "output_type": "execute_result",
          "data": {
            "text/plain": [
              "<Figure size 432x288 with 0 Axes>"
            ]
          },
          "metadata": {
            "tags": []
          },
          "execution_count": 636
        },
        {
          "output_type": "display_data",
          "data": {
            "text/plain": [
              "<Figure size 432x288 with 0 Axes>"
            ]
          },
          "metadata": {
            "tags": []
          }
        }
      ]
    },
    {
      "cell_type": "code",
      "metadata": {
        "id": "HkKlUfsrY_1g",
        "outputId": "02cb5fde-a73e-4bf7-8208-aa1ebc00ea26",
        "colab": {
          "base_uri": "https://localhost:8080/",
          "height": 282
        }
      },
      "source": [
        "# Resultado esperado (não modifique esta célula)\n",
        "\n",
        "plt.plot()"
      ],
      "execution_count": 637,
      "outputs": [
        {
          "output_type": "execute_result",
          "data": {
            "text/plain": [
              "[]"
            ]
          },
          "metadata": {
            "tags": []
          },
          "execution_count": 637
        },
        {
          "output_type": "display_data",
          "data": {
            "image/png": "[encoded data removed]",
            "text/plain": [
              "<Figure size 432x288 with 1 Axes>"
            ]
          },
          "metadata": {
            "tags": [],
            "needs_background": "light"
          }
        }
      ]
    },
    {
      "cell_type": "markdown",
      "metadata": {
        "id": "vmWXyhT7Y_1h"
      },
      "source": [
        "### TAREFA 03\n",
        "1. Instancie uma figura alterando seu tamanho.\n",
        "2. Use o *plt.plot()* para visualizar no notebook.\n",
        "\n",
        "- **DICA**: Use o parâmetro *figsize*."
      ]
    },
    {
      "cell_type": "code",
      "metadata": {
        "id": "eM_26-8fuHmf"
      },
      "source": [
        "import matplotlib\n",
        "import matplotlib.pyplot as plt"
      ],
      "execution_count": 638,
      "outputs": []
    },
    {
      "cell_type": "code",
      "metadata": {
        "id": "MBmcD-a7TC6K"
      },
      "source": [
        "matplotlib.rc('figure', figsize=(10, 5))"
      ],
      "execution_count": 639,
      "outputs": []
    },
    {
      "cell_type": "code",
      "metadata": {
        "id": "ki9ei7adY_1i",
        "outputId": "880d82d7-e0db-4548-ae9e-e99ba0b11c42",
        "colab": {
          "base_uri": "https://localhost:8080/",
          "height": 337
        }
      },
      "source": [
        "# Resultado esperado (não modifique esta célula)\n",
        "\n",
        "plt.plot()"
      ],
      "execution_count": 640,
      "outputs": [
        {
          "output_type": "execute_result",
          "data": {
            "text/plain": [
              "[]"
            ]
          },
          "metadata": {
            "tags": []
          },
          "execution_count": 640
        },
        {
          "output_type": "display_data",
          "data": {
            "image/png": "[encoded data removed]",
            "text/plain": [
              "<Figure size 720x360 with 1 Axes>"
            ]
          },
          "metadata": {
            "tags": [],
            "needs_background": "light"
          }
        }
      ]
    },
    {
      "cell_type": "markdown",
      "metadata": {
        "id": "ZzJZ9YcfY_1j"
      },
      "source": [
        "#### Axe\n",
        "Pense em um *Axe* como uma região da figura onde você plotará seus gráficos. Uma *Figure* pode ter vários *Axes*, mas um *Axe* pertence a uma só *Figure*. Para adicionar *Axes* à uma *Figure*, podemos utilizar os métodos *fig.add_axes()* ou *fig.add_subplot()*. Para esclarecer, *Axes* e *subplots* são a mesma coisa.\n",
        "\n",
        "O método *fig.add_subplots()* usa 3 números inteiros como parâmetro. Esses três números definem o número de linhas e colunas e a posição do subplot na figura. Por exemplo, usando *fig.add_subplots(ijk)* adiciona um eixo na k-enésima posição de uma grade que possui i linhas e j colunas.\n",
        "\n",
        "O método *fig.add_subplot()* é a maneira mais fácil de configurar seu layout, enquanto *fig.add_axes()* lhe dará mais controle sobre a posição dos seus eixos.\n",
        "\n",
        "### TAREFA 04\n",
        "1. Instancie uma figura\n",
        "2. Adicione dois subplots lado a lado.\n",
        "3. Não se esqueça do plot.plot()\n",
        "\n",
        "**DICA**: Utilize o método *fig.add_axes()*."
      ]
    },
    {
      "cell_type": "code",
      "metadata": {
        "id": "qqABzFKOawQX",
        "outputId": "6c8a257e-0897-4ee0-85fa-142b3086722d",
        "colab": {
          "base_uri": "https://localhost:8080/",
          "height": 702
        }
      },
      "source": [
        "x = np.array([2, 4, 6, 8, 10, 12, 14, 16, 18, 20]) \n",
        "y_1 = 2*x \n",
        "y_2 = 3*x \n",
        "plt.subplots(figsize=(15, 5)) \n",
        "plt.subplot(1, 2, 1) \n",
        "plt.plot(x, y_1, 'r', linewidth=5, linestyle=':') \n",
        "plt.title('PLOT ONE') \n",
        "plt.xlabel('x-axis') \n",
        "plt.ylabel('y-axis') \n",
        "plt.subplot(1, 2, 2) \n",
        "plt.plot(x, y_2, 'g', linewidth=5) \n",
        "plt.title('PLOT TWO') \n",
        "plt.xlabel('x-axis') \n",
        "plt.ylabel('y-axis') \n",
        "plt.tight_layout(4)\n",
        "fig = plt.figure()\n",
        "ax = fig.add_axes([0,0,1,1])\n",
        "\n",
        "# Resultado esperado (não modifique esta célula)\n",
        "\n",
        "plt.plot()\n",
        "plt.show()"
      ],
      "execution_count": 641,
      "outputs": [
        {
          "output_type": "display_data",
          "data": {
            "image/png": "[encoded data removed]",
            "text/plain": [
              "<Figure size 1080x360 with 2 Axes>"
            ]
          },
          "metadata": {
            "tags": [],
            "needs_background": "light"
          }
        },
        {
          "output_type": "display_data",
          "data": {
            "image/png": "[encoded data removed]",
            "text/plain": [
              "<Figure size 720x360 with 1 Axes>"
            ]
          },
          "metadata": {
            "tags": [],
            "needs_background": "light"
          }
        }
      ]
    },
    {
      "cell_type": "markdown",
      "metadata": {
        "id": "CoLAwF2GY_1m"
      },
      "source": [
        "Cada subplot contém dois eixos, representados pelos objetos *Axis* (observe a diferença entre *Axes* e *Axis*), que cuidam dos limites de cada subplot. As faixas de valores dos eixos podem ser controlados através dos métodos *axes.set_xlim()* e *axes.set_ylim()*.\n",
        "\n",
        "### TAREFA 05\n",
        "1. Altere os limites dos subplotes da figura anterior\n",
        "2. Para o subplot da esquerda, configure o eixo x de 0 a 10.\n",
        "3. No subplot da direita, defina y entre -1 e 1.\n",
        "4. Adicione os títulos \"Esquerda\" e \"Direita\" nos subplots."
      ]
    },
    {
      "cell_type": "code",
      "metadata": {
        "id": "rdkI4gVyY_1n",
        "outputId": "edcd2bd1-1ab4-4a20-d2e9-6457d67574e7",
        "colab": {
          "base_uri": "https://localhost:8080/",
          "height": 365
        }
      },
      "source": [
        "# Insira seu código aqui\n",
        "\n",
        "ax = fig.add_axes([0,0,1,1])\n",
        "x = np.array([2, 4, 6, 8, 10, 12, 14, 16, 18, 20]) \n",
        "y_1 = 2*x \n",
        "y_2 = 3*x \n",
        "plt.subplots(figsize=(15, 5)) \n",
        "plt.subplot(1, 2, 1) \n",
        "plt.plot(x, y_1, 'r', linewidth=5, linestyle=':') \n",
        "plt.title('Esquerda') \n",
        "plt.xlim(0,10)\n",
        "plt.xlabel('x-axis') \n",
        "plt.ylabel('y-axis') \n",
        "plt.subplot(1, 2, 2) \n",
        "plt.plot(x, y_2, 'g', linewidth=5) \n",
        "plt.title('Direita')\n",
        "plt.ylim(-1,1)\n",
        "plt.xlabel('x-axis') \n",
        "plt.ylabel('y-axis') \n",
        "plt.tight_layout(4)\n",
        "\n",
        "# Resultado esperado (não modifique esta célula)\n",
        "\n",
        "plt.plot()\n",
        "plt.show()"
      ],
      "execution_count": 642,
      "outputs": [
        {
          "output_type": "stream",
          "text": [
            "/usr/local/lib/python3.7/dist-packages/ipykernel_launcher.py:3: MatplotlibDeprecationWarning: Adding an axes using the same arguments as a previous axes currently reuses the earlier instance.  In a future version, a new instance will always be created and returned.  Meanwhile, this warning can be suppressed, and the future behavior ensured, by passing a unique label to each axes instance.\n",
            "  This is separate from the ipykernel package so we can avoid doing imports until\n"
          ],
          "name": "stderr"
        },
        {
          "output_type": "display_data",
          "data": {
            "image/png": "[encoded data removed]",
            "text/plain": [
              "<Figure size 1080x360 with 2 Axes>"
            ]
          },
          "metadata": {
            "tags": [],
            "needs_background": "light"
          }
        }
      ]
    },
    {
      "cell_type": "markdown",
      "metadata": {
        "id": "uady_JL2Y_1o"
      },
      "source": [
        "Nossos subplots estão sobreajustados e o eixo y do subplot da direita está ruim de visualizar.\n",
        "\n",
        "### TAREFA 06\n",
        "1. Com base na figura anterior, ajuste o gráfico.\n",
        "2. Ajuste o tamanho da figura.\n",
        "\n",
        "**DICA**: Use o método *figure.tight_layout()*."
      ]
    },
    {
      "cell_type": "code",
      "metadata": {
        "id": "qiZT6Ka9Y_1p",
        "outputId": "b8f85861-eebe-422f-dabd-76d249d20f2d",
        "colab": {
          "base_uri": "https://localhost:8080/",
          "height": 441
        }
      },
      "source": [
        "# Insira sua código aqui\n",
        "\n",
        "x = np.arange(0, 10, 0.2)\n",
        "y = np.sin(x)\n",
        "\n",
        "# plot it\n",
        "fig = plt.figure(figsize=(8, 6))\n",
        "ax0 = plt.subplot2grid((1, 3), (0, 0), colspan=2)\n",
        "ax0.plot(x, y)\n",
        "ax1 = plt.subplot2grid((1, 3), (0, 2))\n",
        "ax1.plot(y, x)\n",
        "\n",
        "fig.tight_layout()\n",
        "plt.savefig('grid_figure.pdf')\n",
        "\n",
        "# Resultado esperado (não modifique esta célula)\n",
        "\n",
        "plt.show()"
      ],
      "execution_count": 643,
      "outputs": [
        {
          "output_type": "display_data",
          "data": {
            "image/png": "[encoded data removed]",
            "text/plain": [
              "<Figure size 576x432 with 2 Axes>"
            ]
          },
          "metadata": {
            "tags": [],
            "needs_background": "light"
          }
        }
      ]
    },
    {
      "cell_type": "markdown",
      "metadata": {
        "id": "4Yn2EEkZY_1r"
      },
      "source": [
        "Bem melhor não é? Percebeu como os objetos (*Figure*, *Axes*, etc) são utilizados na montagem do gráfico? E como os atritutos (*figsize*) e métodos (*tight_layout()*, *set_title()*, *set_xlim()*, etc) destes objetos são utilizados para alterar a estética do grafico?\n",
        "\n",
        "Os recursos do Matplotlib são vastos, mas o conceito de hierarquia de elementos das figuras e a interação destes elementos farão você chegar à qualquer lugar na hora de montar seu gráfico."
      ]
    },
    {
      "cell_type": "markdown",
      "metadata": {
        "id": "xiPquc_nY_1r"
      },
      "source": [
        "### Plotando seus gráficos\n",
        "\n",
        "*   List item\n",
        "*   List item\n",
        "\n",
        "\n",
        "Vamos voltar ao conjunto de dados do UFC que carregamos mais cedo. Afinal, o Matplotlib é somente uma tela em branco quando você não tem o que desenhar.\n",
        "\n",
        "A variável *fights_by_year* armazena a quantidade de lutas por ano do evento. Apesar deste notebook não pretender ensinar Pandas, é altamente recomendável que você não tenha dúvida sobre o que foi feito na célula abaixo."
      ]
    },
    {
      "cell_type": "code",
      "metadata": {
        "id": "m5tZYxmcY_1s",
        "outputId": "f0a3211f-3016-447f-c647-b10954d86af4",
        "colab": {
          "base_uri": "https://localhost:8080/"
        }
      },
      "source": [
        "# Transformando a coluna date em objeto datetime e agrupando as lutas por ano.\n",
        "\n",
        "ufc['date'] = pd.to_datetime(ufc['date'])\n",
        "fights = ufc.groupby(ufc['date'].dt.year).size()\n",
        "fights"
      ],
      "execution_count": 644,
      "outputs": [
        {
          "output_type": "execute_result",
          "data": {
            "text/plain": [
              "date\n",
              "1993      8\n",
              "1994     29\n",
              "1995     33\n",
              "1996     36\n",
              "1997     39\n",
              "1998     20\n",
              "1999     43\n",
              "2000     41\n",
              "2001     40\n",
              "2002     53\n",
              "2003     41\n",
              "2004     39\n",
              "2005     80\n",
              "2006    158\n",
              "2007    171\n",
              "2008    201\n",
              "2009    215\n",
              "2010    253\n",
              "2011    300\n",
              "2012    341\n",
              "2013    386\n",
              "2014    503\n",
              "2015    473\n",
              "2016    493\n",
              "2017    451\n",
              "2018    474\n",
              "2019    223\n",
              "dtype: int64"
            ]
          },
          "metadata": {
            "tags": []
          },
          "execution_count": 644
        }
      ]
    },
    {
      "cell_type": "markdown",
      "metadata": {
        "id": "GxQ30gcQY_1s"
      },
      "source": [
        "### TAREFA 07\n",
        "1. Plote a evolução das quantidades de lutas por ano no UFC.\n",
        "2. Use um gráfico de linha.\n",
        "3. Configure título e nome dos eixos x e y."
      ]
    },
    {
      "cell_type": "code",
      "metadata": {
        "id": "RWOQoBgEY_1t",
        "outputId": "32dfffef-4707-4d8d-e409-53a7bfb00a16",
        "colab": {
          "base_uri": "https://localhost:8080/",
          "height": 367
        }
      },
      "source": [
        "# Insira sua código aqui\n",
        "\n",
        "plt.plot(fights)\n",
        "plt.title(\"UFC fights\")\n",
        "plt.xlabel(\"fights\")\n",
        "plt.ylabel(\"year\")"
      ],
      "execution_count": 645,
      "outputs": [
        {
          "output_type": "execute_result",
          "data": {
            "text/plain": [
              "Text(0, 0.5, 'year')"
            ]
          },
          "metadata": {
            "tags": []
          },
          "execution_count": 645
        },
        {
          "output_type": "display_data",
          "data": {
            "image/png": "[encoded data removed]",
            "text/plain": [
              "<Figure size 720x360 with 1 Axes>"
            ]
          },
          "metadata": {
            "tags": [],
            "needs_background": "light"
          }
        }
      ]
    },
    {
      "cell_type": "code",
      "metadata": {
        "id": "O6LG4m2cY_1u",
        "outputId": "8c3d5997-4dc4-496f-e1c6-485d9c387cdd",
        "colab": {
          "base_uri": "https://localhost:8080/",
          "height": 367
        }
      },
      "source": [
        "# Resultado esperado (não modifique esta célula)\n",
        "\n",
        "fights.plot()\n",
        "plt.title(\"UFC fights\")"
      ],
      "execution_count": 646,
      "outputs": [
        {
          "output_type": "execute_result",
          "data": {
            "text/plain": [
              "Text(0.5, 1.0, 'UFC fights')"
            ]
          },
          "metadata": {
            "tags": []
          },
          "execution_count": 646
        },
        {
          "output_type": "display_data",
          "data": {
            "image/png": "[encoded data removed]",
            "text/plain": [
              "<Figure size 720x360 with 1 Axes>"
            ]
          },
          "metadata": {
            "tags": [],
            "needs_background": "light"
          }
        }
      ]
    },
    {
      "cell_type": "markdown",
      "metadata": {
        "id": "3Zr-TBCQY_1u"
      },
      "source": [
        "### Matplotlib e pandas\n",
        "A biblioteca Pandas possui integração com o Matplotlib, permitindo que sejam criados gráficos diretamente dos dataframes do Pandas. Se você quiser plotar as informações de forma mais rápida, basta utilizar o método *plot()* do próprio dataframe.\n",
        "\n",
        "Separamos as 10 classes de peso mais relevantes - maior quantidade de lutas - do UFC ao longo dos anos."
      ]
    },
    {
      "cell_type": "code",
      "metadata": {
        "id": "sOAZRpVbY_1v"
      },
      "source": [
        "fights_by_class = ufc['weight_class'].value_counts()[:20]"
      ],
      "execution_count": 647,
      "outputs": []
    },
    {
      "cell_type": "markdown",
      "metadata": {
        "id": "sWgyN3b7Y_1v"
      },
      "source": [
        "### TAREFA 08\n",
        "1. Plote a quantidade de lutas das 10 classes de peso mais relevantes do UFC.\n",
        "2. Use um gráfico de barra diretamente do dataframe.\n",
        "3. Armazene seu plot em um objeto *Axe*.\n",
        "4. Configure título e nome dos eixos x e y."
      ]
    },
    {
      "cell_type": "code",
      "metadata": {
        "id": "G48r4l9tY_1w",
        "outputId": "e8999543-cbd1-43c3-ef6a-48c3ce309aa4",
        "colab": {
          "base_uri": "https://localhost:8080/"
        }
      },
      "source": [
        "ufc['weight_class'].value_counts()[:20]"
      ],
      "execution_count": 648,
      "outputs": [
        {
          "output_type": "execute_result",
          "data": {
            "text/plain": [
              "Lightweight              989\n",
              "Welterweight             969\n",
              "Middleweight             725\n",
              "Heavyweight              507\n",
              "Light Heavyweight        502\n",
              "Featherweight            442\n",
              "Bantamweight             379\n",
              "Flyweight                187\n",
              "Women's Strawweight      143\n",
              "Women's Bantamweight     111\n",
              "Open Weight               92\n",
              "Women's Flyweight         50\n",
              "Catch Weight              38\n",
              "Women's Featherweight     10\n",
              "Name: weight_class, dtype: int64"
            ]
          },
          "metadata": {
            "tags": []
          },
          "execution_count": 648
        }
      ]
    },
    {
      "cell_type": "code",
      "metadata": {
        "id": "sjbumdWhY_1w",
        "outputId": "3799ae19-164b-4ce9-fc90-a2ffc65dfd39",
        "colab": {
          "base_uri": "https://localhost:8080/",
          "height": 442
        }
      },
      "source": [
        "# Resultado esperado (não modifique esta célula)\n",
        "\n",
        "axe= fights_by_class.plot(kind=\"bar\")\n",
        "plt.title(\"fights\")\n",
        "plt.xlabel(\"class\")\n",
        "plt.title(\"weight\")\n",
        "plt.xticks(rotation=30)"
      ],
      "execution_count": 649,
      "outputs": [
        {
          "output_type": "execute_result",
          "data": {
            "text/plain": [
              "(array([ 0,  1,  2,  3,  4,  5,  6,  7,  8,  9, 10, 11, 12, 13]),\n",
              " <a list of 14 Text major ticklabel objects>)"
            ]
          },
          "metadata": {
            "tags": []
          },
          "execution_count": 649
        },
        {
          "output_type": "display_data",
          "data": {
            "image/png": "[encoded data removed]",
            "text/plain": [
              "<Figure size 720x360 with 1 Axes>"
            ]
          },
          "metadata": {
            "tags": [],
            "needs_background": "light"
          }
        }
      ]
    },
    {
      "cell_type": "markdown",
      "metadata": {
        "id": "Mz7S1aTpY_1z"
      },
      "source": [
        "## Conclusão\n",
        "Matplotlib é, provavelmente, o pacote Python mais utilizado para gráficos 2D. Ele fornece uma maneira muito rápida de visualizar os dados de Python e figuras de qualidade de publicação em vários formatos. Em conjunto com outras ferramentas, como Pandas e Seaborn (este é um complemento ao Matplotlib), os cientistas de dados tem um grande aliado."
      ]
    },
    {
      "cell_type": "markdown",
      "metadata": {
        "id": "1kOXhnpgY_10"
      },
      "source": [
        "### Awari -  <a href=\"https://awari.com.br/\"> awari.com.br</a>"
      ]
    }
  ]
}